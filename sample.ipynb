{
 "cells": [
  {
   "metadata": {},
   "cell_type": "markdown",
   "source": "",
   "id": "9b18709bcf1ce13c"
  },
  {
   "metadata": {
    "ExecuteTime": {
     "end_time": "2025-09-05T13:39:54.532856Z",
     "start_time": "2025-09-05T13:38:26.442882Z"
    }
   },
   "cell_type": "code",
   "source": [
    "import torch\n",
    "from diffusers import FluxPipeline\n",
    "import dotenv\n",
    "import os\n",
    "dotenv.load_dotenv()"
   ],
   "id": "f168b5eedd081fef",
   "outputs": [
    {
     "data": {
      "text/plain": [
       "True"
      ]
     },
     "execution_count": 1,
     "metadata": {},
     "output_type": "execute_result"
    }
   ],
   "execution_count": 1
  },
  {
   "metadata": {
    "ExecuteTime": {
     "end_time": "2025-09-05T13:39:59.454459Z",
     "start_time": "2025-09-05T13:39:54.581062Z"
    }
   },
   "cell_type": "code",
   "source": [
    "pipe = FluxPipeline.from_pretrained(\"black-forest-labs/FLUX.1-schnell\", torch_dtype=torch.bfloat16, token=os.getenv(\"hf_token\"))\n",
    "pipe.enable_model_cpu_offload()"
   ],
   "id": "e240c54243af399c",
   "outputs": [
    {
     "data": {
      "text/plain": [
       "Loading pipeline components...:   0%|          | 0/7 [00:00<?, ?it/s]"
      ],
      "application/vnd.jupyter.widget-view+json": {
       "version_major": 2,
       "version_minor": 0,
       "model_id": "a931e141b6ea4bbcb2e4343006a9d2d5"
      }
     },
     "metadata": {},
     "output_type": "display_data"
    },
    {
     "data": {
      "text/plain": [
       "Loading checkpoint shards:   0%|          | 0/3 [00:00<?, ?it/s]"
      ],
      "application/vnd.jupyter.widget-view+json": {
       "version_major": 2,
       "version_minor": 0,
       "model_id": "b18ec8c1d509402781c98f84cad27e8d"
      }
     },
     "metadata": {},
     "output_type": "display_data"
    },
    {
     "name": "stderr",
     "output_type": "stream",
     "text": [
      "`torch_dtype` is deprecated! Use `dtype` instead!\n"
     ]
    },
    {
     "data": {
      "text/plain": [
       "Loading checkpoint shards:   0%|          | 0/2 [00:00<?, ?it/s]"
      ],
      "application/vnd.jupyter.widget-view+json": {
       "version_major": 2,
       "version_minor": 0,
       "model_id": "5d64176ffec54ed48882a8b75cdc3c9c"
      }
     },
     "metadata": {},
     "output_type": "display_data"
    },
    {
     "name": "stderr",
     "output_type": "stream",
     "text": [
      "You set `add_prefix_space`. The tokenizer needs to be converted from the slow tokenizers\n"
     ]
    },
    {
     "ename": "RuntimeError",
     "evalue": "`enable_model_cpu_offload` requires accelerator, but not found",
     "output_type": "error",
     "traceback": [
      "\u001B[1;31m---------------------------------------------------------------------------\u001B[0m",
      "\u001B[1;31mRuntimeError\u001B[0m                              Traceback (most recent call last)",
      "Cell \u001B[1;32mIn[2], line 2\u001B[0m\n\u001B[0;32m      1\u001B[0m pipe \u001B[38;5;241m=\u001B[39m FluxPipeline\u001B[38;5;241m.\u001B[39mfrom_pretrained(\u001B[38;5;124m\"\u001B[39m\u001B[38;5;124mblack-forest-labs/FLUX.1-schnell\u001B[39m\u001B[38;5;124m\"\u001B[39m, torch_dtype\u001B[38;5;241m=\u001B[39mtorch\u001B[38;5;241m.\u001B[39mbfloat16, token\u001B[38;5;241m=\u001B[39mos\u001B[38;5;241m.\u001B[39mgetenv(\u001B[38;5;124m\"\u001B[39m\u001B[38;5;124mhf_token\u001B[39m\u001B[38;5;124m\"\u001B[39m))\n\u001B[1;32m----> 2\u001B[0m \u001B[43mpipe\u001B[49m\u001B[38;5;241;43m.\u001B[39;49m\u001B[43menable_model_cpu_offload\u001B[49m\u001B[43m(\u001B[49m\u001B[43m)\u001B[49m\n",
      "File \u001B[1;32m~\\PycharmProjects\\GenAI\\backend\\.venv\\lib\\site-packages\\diffusers\\pipelines\\pipeline_utils.py:1192\u001B[0m, in \u001B[0;36mDiffusionPipeline.enable_model_cpu_offload\u001B[1;34m(self, gpu_id, device)\u001B[0m\n\u001B[0;32m   1190\u001B[0m     device \u001B[38;5;241m=\u001B[39m get_device()\n\u001B[0;32m   1191\u001B[0m     \u001B[38;5;28;01mif\u001B[39;00m device \u001B[38;5;241m==\u001B[39m \u001B[38;5;124m\"\u001B[39m\u001B[38;5;124mcpu\u001B[39m\u001B[38;5;124m\"\u001B[39m:\n\u001B[1;32m-> 1192\u001B[0m         \u001B[38;5;28;01mraise\u001B[39;00m \u001B[38;5;167;01mRuntimeError\u001B[39;00m(\u001B[38;5;124m\"\u001B[39m\u001B[38;5;124m`enable_model_cpu_offload` requires accelerator, but not found\u001B[39m\u001B[38;5;124m\"\u001B[39m)\n\u001B[0;32m   1194\u001B[0m torch_device \u001B[38;5;241m=\u001B[39m torch\u001B[38;5;241m.\u001B[39mdevice(device)\n\u001B[0;32m   1195\u001B[0m device_index \u001B[38;5;241m=\u001B[39m torch_device\u001B[38;5;241m.\u001B[39mindex\n",
      "\u001B[1;31mRuntimeError\u001B[0m: `enable_model_cpu_offload` requires accelerator, but not found"
     ]
    }
   ],
   "execution_count": 2
  },
  {
   "metadata": {
    "ExecuteTime": {
     "end_time": "2025-09-05T13:39:59.478198700Z",
     "start_time": "2025-09-05T10:42:00.857945Z"
    }
   },
   "cell_type": "code",
   "source": [
    "prompt = \"A cat holding a sign that says hello world\"\n",
    "image = pipe(\n",
    "    prompt,\n",
    "    guidance_scale=0.0,\n",
    "    num_inference_steps=4,\n",
    "    max_sequence_length=256,\n",
    "    generator=torch.Generator(\"cpu\").manual_seed(0)\n",
    ").images[0]\n",
    "image.save(\"flux-schnell.png\")"
   ],
   "id": "80f14b99be9f50fc",
   "outputs": [
    {
     "ename": "NameError",
     "evalue": "name 'pipe' is not defined",
     "output_type": "error",
     "traceback": [
      "\u001B[1;31m---------------------------------------------------------------------------\u001B[0m",
      "\u001B[1;31mNameError\u001B[0m                                 Traceback (most recent call last)",
      "Cell \u001B[1;32mIn[20], line 2\u001B[0m\n\u001B[0;32m      1\u001B[0m prompt \u001B[38;5;241m=\u001B[39m \u001B[38;5;124m\"\u001B[39m\u001B[38;5;124mA cat holding a sign that says hello world\u001B[39m\u001B[38;5;124m\"\u001B[39m\n\u001B[1;32m----> 2\u001B[0m image \u001B[38;5;241m=\u001B[39m \u001B[43mpipe\u001B[49m(\n\u001B[0;32m      3\u001B[0m     prompt,\n\u001B[0;32m      4\u001B[0m     guidance_scale\u001B[38;5;241m=\u001B[39m\u001B[38;5;241m0.0\u001B[39m,\n\u001B[0;32m      5\u001B[0m     num_inference_steps\u001B[38;5;241m=\u001B[39m\u001B[38;5;241m4\u001B[39m,\n\u001B[0;32m      6\u001B[0m     max_sequence_length\u001B[38;5;241m=\u001B[39m\u001B[38;5;241m256\u001B[39m,\n\u001B[0;32m      7\u001B[0m     generator\u001B[38;5;241m=\u001B[39mtorch\u001B[38;5;241m.\u001B[39mGenerator(\u001B[38;5;124m\"\u001B[39m\u001B[38;5;124mcpu\u001B[39m\u001B[38;5;124m\"\u001B[39m)\u001B[38;5;241m.\u001B[39mmanual_seed(\u001B[38;5;241m0\u001B[39m)\n\u001B[0;32m      8\u001B[0m )\u001B[38;5;241m.\u001B[39mimages[\u001B[38;5;241m0\u001B[39m]\n\u001B[0;32m      9\u001B[0m image\u001B[38;5;241m.\u001B[39msave(\u001B[38;5;124m\"\u001B[39m\u001B[38;5;124mflux-schnell.png\u001B[39m\u001B[38;5;124m\"\u001B[39m)\n",
      "\u001B[1;31mNameError\u001B[0m: name 'pipe' is not defined"
     ]
    }
   ],
   "execution_count": 20
  }
 ],
 "metadata": {
  "kernelspec": {
   "display_name": "Python 3",
   "language": "python",
   "name": "python3"
  },
  "language_info": {
   "codemirror_mode": {
    "name": "ipython",
    "version": 2
   },
   "file_extension": ".py",
   "mimetype": "text/x-python",
   "name": "python",
   "nbconvert_exporter": "python",
   "pygments_lexer": "ipython2",
   "version": "2.7.6"
  }
 },
 "nbformat": 4,
 "nbformat_minor": 5
}
